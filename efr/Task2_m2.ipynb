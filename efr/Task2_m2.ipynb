{
  "cells": [
    {
      "cell_type": "code",
      "execution_count": 3,
      "metadata": {
        "colab": {
          "base_uri": "https://localhost:8080/"
        },
        "id": "cRvar8fdGxzJ",
        "outputId": "e0b8e3d9-4e0e-42fb-a099-72df3263b648"
      },
      "outputs": [
        {
          "name": "stdout",
          "output_type": "stream",
          "text": [
            "Drive already mounted at /content/drive; to attempt to forcibly remount, call drive.mount(\"/content/drive\", force_remount=True).\n"
          ]
        }
      ],
      "source": [
        "from google.colab import drive\n",
        "drive.mount('/content/drive')"
      ]
    },
    {
      "cell_type": "code",
      "execution_count": 1,
      "metadata": {
        "id": "_OEc3NqAGxs2"
      },
      "outputs": [],
      "source": [
        "import pandas as pd\n",
        "# file_path = '/content/drive/MyDrive/NLP_assignment_4/'\n",
        "file_path = ''"
      ]
    },
    {
      "cell_type": "markdown",
      "metadata": {
        "id": "8IfvMXvPHIn0"
      },
      "source": []
    },
    {
      "cell_type": "code",
      "execution_count": 2,
      "metadata": {
        "colab": {
          "base_uri": "https://localhost:8080/"
        },
        "id": "Haci7wRxHXgd",
        "outputId": "6b3348cf-f954-4734-a357-1a40a5b66d09"
      },
      "outputs": [
        {
          "name": "stdout",
          "output_type": "stream",
          "text": [
            "Requirement already satisfied: tensorflow in c:\\users\\leifo\\appdata\\local\\programs\\python\\python39\\lib\\site-packages (2.15.0)\n",
            "Requirement already satisfied: tensorflow-intel==2.15.0 in c:\\users\\leifo\\appdata\\local\\programs\\python\\python39\\lib\\site-packages (from tensorflow) (2.15.0)\n",
            "Requirement already satisfied: absl-py>=1.0.0 in c:\\users\\leifo\\appdata\\local\\programs\\python\\python39\\lib\\site-packages (from tensorflow-intel==2.15.0->tensorflow) (2.0.0)\n",
            "Requirement already satisfied: astunparse>=1.6.0 in c:\\users\\leifo\\appdata\\local\\programs\\python\\python39\\lib\\site-packages (from tensorflow-intel==2.15.0->tensorflow) (1.6.3)\n",
            "Requirement already satisfied: flatbuffers>=23.5.26 in c:\\users\\leifo\\appdata\\local\\programs\\python\\python39\\lib\\site-packages (from tensorflow-intel==2.15.0->tensorflow) (23.5.26)\n",
            "Requirement already satisfied: gast!=0.5.0,!=0.5.1,!=0.5.2,>=0.2.1 in c:\\users\\leifo\\appdata\\local\\programs\\python\\python39\\lib\\site-packages (from tensorflow-intel==2.15.0->tensorflow) (0.5.4)\n",
            "Requirement already satisfied: google-pasta>=0.1.1 in c:\\users\\leifo\\appdata\\local\\programs\\python\\python39\\lib\\site-packages (from tensorflow-intel==2.15.0->tensorflow) (0.2.0)\n",
            "Requirement already satisfied: h5py>=2.9.0 in c:\\users\\leifo\\appdata\\local\\programs\\python\\python39\\lib\\site-packages (from tensorflow-intel==2.15.0->tensorflow) (3.10.0)\n",
            "Requirement already satisfied: libclang>=13.0.0 in c:\\users\\leifo\\appdata\\local\\programs\\python\\python39\\lib\\site-packages (from tensorflow-intel==2.15.0->tensorflow) (16.0.6)\n",
            "Requirement already satisfied: ml-dtypes~=0.2.0 in c:\\users\\leifo\\appdata\\local\\programs\\python\\python39\\lib\\site-packages (from tensorflow-intel==2.15.0->tensorflow) (0.2.0)\n",
            "Requirement already satisfied: numpy<2.0.0,>=1.23.5 in c:\\users\\leifo\\appdata\\local\\programs\\python\\python39\\lib\\site-packages (from tensorflow-intel==2.15.0->tensorflow) (1.24.2)\n",
            "Requirement already satisfied: opt-einsum>=2.3.2 in c:\\users\\leifo\\appdata\\local\\programs\\python\\python39\\lib\\site-packages (from tensorflow-intel==2.15.0->tensorflow) (3.3.0)\n",
            "Requirement already satisfied: packaging in c:\\users\\leifo\\appdata\\local\\programs\\python\\python39\\lib\\site-packages (from tensorflow-intel==2.15.0->tensorflow) (23.1)\n",
            "Requirement already satisfied: protobuf!=4.21.0,!=4.21.1,!=4.21.2,!=4.21.3,!=4.21.4,!=4.21.5,<5.0.0dev,>=3.20.3 in c:\\users\\leifo\\appdata\\local\\programs\\python\\python39\\lib\\site-packages (from tensorflow-intel==2.15.0->tensorflow) (4.25.0)\n",
            "Requirement already satisfied: setuptools in c:\\users\\leifo\\appdata\\local\\programs\\python\\python39\\lib\\site-packages (from tensorflow-intel==2.15.0->tensorflow) (49.2.1)\n",
            "Requirement already satisfied: six>=1.12.0 in c:\\users\\leifo\\appdata\\local\\programs\\python\\python39\\lib\\site-packages (from tensorflow-intel==2.15.0->tensorflow) (1.16.0)\n",
            "Requirement already satisfied: termcolor>=1.1.0 in c:\\users\\leifo\\appdata\\local\\programs\\python\\python39\\lib\\site-packages (from tensorflow-intel==2.15.0->tensorflow) (2.3.0)\n",
            "Requirement already satisfied: typing-extensions>=3.6.6 in c:\\users\\leifo\\appdata\\local\\programs\\python\\python39\\lib\\site-packages (from tensorflow-intel==2.15.0->tensorflow) (4.10.0)\n",
            "Requirement already satisfied: wrapt<1.15,>=1.11.0 in c:\\users\\leifo\\appdata\\local\\programs\\python\\python39\\lib\\site-packages (from tensorflow-intel==2.15.0->tensorflow) (1.14.1)\n",
            "Requirement already satisfied: tensorflow-io-gcs-filesystem>=0.23.1 in c:\\users\\leifo\\appdata\\local\\programs\\python\\python39\\lib\\site-packages (from tensorflow-intel==2.15.0->tensorflow) (0.31.0)\n",
            "Requirement already satisfied: grpcio<2.0,>=1.24.3 in c:\\users\\leifo\\appdata\\local\\programs\\python\\python39\\lib\\site-packages (from tensorflow-intel==2.15.0->tensorflow) (1.60.1)\n",
            "Requirement already satisfied: tensorboard<2.16,>=2.15 in c:\\users\\leifo\\appdata\\local\\programs\\python\\python39\\lib\\site-packages (from tensorflow-intel==2.15.0->tensorflow) (2.15.1)\n",
            "Requirement already satisfied: tensorflow-estimator<2.16,>=2.15.0 in c:\\users\\leifo\\appdata\\local\\programs\\python\\python39\\lib\\site-packages (from tensorflow-intel==2.15.0->tensorflow) (2.15.0)\n",
            "Requirement already satisfied: keras<2.16,>=2.15.0 in c:\\users\\leifo\\appdata\\local\\programs\\python\\python39\\lib\\site-packages (from tensorflow-intel==2.15.0->tensorflow) (2.15.0)\n",
            "Requirement already satisfied: wheel<1.0,>=0.23.0 in c:\\users\\leifo\\appdata\\local\\programs\\python\\python39\\lib\\site-packages (from astunparse>=1.6.0->tensorflow-intel==2.15.0->tensorflow) (0.41.3)\n",
            "Requirement already satisfied: google-auth<3,>=1.6.3 in c:\\users\\leifo\\appdata\\local\\programs\\python\\python39\\lib\\site-packages (from tensorboard<2.16,>=2.15->tensorflow-intel==2.15.0->tensorflow) (2.23.4)\n",
            "Requirement already satisfied: google-auth-oauthlib<2,>=0.5 in c:\\users\\leifo\\appdata\\local\\programs\\python\\python39\\lib\\site-packages (from tensorboard<2.16,>=2.15->tensorflow-intel==2.15.0->tensorflow) (1.1.0)\n",
            "Requirement already satisfied: markdown>=2.6.8 in c:\\users\\leifo\\appdata\\local\\programs\\python\\python39\\lib\\site-packages (from tensorboard<2.16,>=2.15->tensorflow-intel==2.15.0->tensorflow) (3.5.1)\n",
            "Collecting protobuf!=4.21.0,!=4.21.1,!=4.21.2,!=4.21.3,!=4.21.4,!=4.21.5,<5.0.0dev,>=3.20.3 (from tensorflow-intel==2.15.0->tensorflow)\n",
            "  Downloading protobuf-4.23.4-cp39-cp39-win_amd64.whl.metadata (540 bytes)\n",
            "Requirement already satisfied: requests<3,>=2.21.0 in c:\\users\\leifo\\appdata\\local\\programs\\python\\python39\\lib\\site-packages (from tensorboard<2.16,>=2.15->tensorflow-intel==2.15.0->tensorflow) (2.31.0)\n",
            "Requirement already satisfied: tensorboard-data-server<0.8.0,>=0.7.0 in c:\\users\\leifo\\appdata\\local\\programs\\python\\python39\\lib\\site-packages (from tensorboard<2.16,>=2.15->tensorflow-intel==2.15.0->tensorflow) (0.7.2)\n",
            "Requirement already satisfied: werkzeug>=1.0.1 in c:\\users\\leifo\\appdata\\local\\programs\\python\\python39\\lib\\site-packages (from tensorboard<2.16,>=2.15->tensorflow-intel==2.15.0->tensorflow) (3.0.1)\n",
            "Requirement already satisfied: cachetools<6.0,>=2.0.0 in c:\\users\\leifo\\appdata\\local\\programs\\python\\python39\\lib\\site-packages (from google-auth<3,>=1.6.3->tensorboard<2.16,>=2.15->tensorflow-intel==2.15.0->tensorflow) (5.3.2)\n",
            "Requirement already satisfied: pyasn1-modules>=0.2.1 in c:\\users\\leifo\\appdata\\local\\programs\\python\\python39\\lib\\site-packages (from google-auth<3,>=1.6.3->tensorboard<2.16,>=2.15->tensorflow-intel==2.15.0->tensorflow) (0.3.0)\n",
            "Requirement already satisfied: rsa<5,>=3.1.4 in c:\\users\\leifo\\appdata\\local\\programs\\python\\python39\\lib\\site-packages (from google-auth<3,>=1.6.3->tensorboard<2.16,>=2.15->tensorflow-intel==2.15.0->tensorflow) (4.9)\n",
            "Requirement already satisfied: requests-oauthlib>=0.7.0 in c:\\users\\leifo\\appdata\\local\\programs\\python\\python39\\lib\\site-packages (from google-auth-oauthlib<2,>=0.5->tensorboard<2.16,>=2.15->tensorflow-intel==2.15.0->tensorflow) (1.3.1)\n",
            "Requirement already satisfied: importlib-metadata>=4.4 in c:\\users\\leifo\\appdata\\roaming\\python\\python39\\site-packages (from markdown>=2.6.8->tensorboard<2.16,>=2.15->tensorflow-intel==2.15.0->tensorflow) (6.8.0)\n",
            "Requirement already satisfied: charset-normalizer<4,>=2 in c:\\users\\leifo\\appdata\\local\\programs\\python\\python39\\lib\\site-packages (from requests<3,>=2.21.0->tensorboard<2.16,>=2.15->tensorflow-intel==2.15.0->tensorflow) (3.3.0)\n",
            "Requirement already satisfied: idna<4,>=2.5 in c:\\users\\leifo\\appdata\\local\\programs\\python\\python39\\lib\\site-packages (from requests<3,>=2.21.0->tensorboard<2.16,>=2.15->tensorflow-intel==2.15.0->tensorflow) (3.4)\n",
            "Requirement already satisfied: urllib3<3,>=1.21.1 in c:\\users\\leifo\\appdata\\local\\programs\\python\\python39\\lib\\site-packages (from requests<3,>=2.21.0->tensorboard<2.16,>=2.15->tensorflow-intel==2.15.0->tensorflow) (2.0.6)\n",
            "Requirement already satisfied: certifi>=2017.4.17 in c:\\users\\leifo\\appdata\\local\\programs\\python\\python39\\lib\\site-packages (from requests<3,>=2.21.0->tensorboard<2.16,>=2.15->tensorflow-intel==2.15.0->tensorflow) (2023.7.22)\n",
            "Requirement already satisfied: MarkupSafe>=2.1.1 in c:\\users\\leifo\\appdata\\local\\programs\\python\\python39\\lib\\site-packages (from werkzeug>=1.0.1->tensorboard<2.16,>=2.15->tensorflow-intel==2.15.0->tensorflow) (2.1.3)\n",
            "Requirement already satisfied: zipp>=0.5 in c:\\users\\leifo\\appdata\\local\\programs\\python\\python39\\lib\\site-packages (from importlib-metadata>=4.4->markdown>=2.6.8->tensorboard<2.16,>=2.15->tensorflow-intel==2.15.0->tensorflow) (3.16.2)\n",
            "Requirement already satisfied: pyasn1<0.6.0,>=0.4.6 in c:\\users\\leifo\\appdata\\local\\programs\\python\\python39\\lib\\site-packages (from pyasn1-modules>=0.2.1->google-auth<3,>=1.6.3->tensorboard<2.16,>=2.15->tensorflow-intel==2.15.0->tensorflow) (0.5.0)\n",
            "Requirement already satisfied: oauthlib>=3.0.0 in c:\\users\\leifo\\appdata\\local\\programs\\python\\python39\\lib\\site-packages (from requests-oauthlib>=0.7.0->google-auth-oauthlib<2,>=0.5->tensorboard<2.16,>=2.15->tensorflow-intel==2.15.0->tensorflow) (3.2.2)\n",
            "Downloading protobuf-4.23.4-cp39-cp39-win_amd64.whl (422 kB)\n",
            "   ---------------------------------------- 0.0/422.5 kB ? eta -:--:--\n",
            "   --------------------------------------  419.8/422.5 kB 13.2 MB/s eta 0:00:01\n",
            "   ---------------------------------------- 422.5/422.5 kB 5.3 MB/s eta 0:00:00\n",
            "Installing collected packages: protobuf\n",
            "  Attempting uninstall: protobuf\n",
            "    Found existing installation: protobuf 4.25.0\n",
            "    Uninstalling protobuf-4.25.0:\n",
            "      Successfully uninstalled protobuf-4.25.0\n",
            "Successfully installed protobuf-4.23.4\n"
          ]
        },
        {
          "name": "stderr",
          "output_type": "stream",
          "text": [
            "ERROR: pip's dependency resolver does not currently take into account all the packages that are installed. This behaviour is the source of the following dependency conflicts.\n",
            "mysql-connector-python 8.0.32 requires protobuf<=3.20.3,>=3.11.0, but you have protobuf 4.23.4 which is incompatible.\n"
          ]
        }
      ],
      "source": [
        "!pip install tensorflow"
      ]
    },
    {
      "cell_type": "code",
      "execution_count": 4,
      "metadata": {
        "colab": {
          "base_uri": "https://localhost:8080/"
        },
        "id": "3swKxo9vZw14",
        "outputId": "6a075800-c27a-433a-a934-e01523c7a62a"
      },
      "outputs": [
        {
          "data": {
            "text/plain": [
              "((58957, 69), (58957,))"
            ]
          },
          "execution_count": 4,
          "metadata": {},
          "output_type": "execute_result"
        }
      ],
      "source": [
        "import json\n",
        "import numpy as np\n",
        "from tensorflow.keras.preprocessing.text import Tokenizer\n",
        "from tensorflow.keras.preprocessing.sequence import pad_sequences\n",
        "\n",
        "def load_and_preprocess_data(file_path):\n",
        "\n",
        "    tokenizer = Tokenizer()\n",
        "    combined_texts = []\n",
        "    combined_emotion_changes = []\n",
        "\n",
        "    with open(file_path, 'r') as file:\n",
        "        data = json.loads(file.read())\n",
        "\n",
        "        texts = [utterance for episode in data for utterance in episode[\"utterances\"]]\n",
        "        emotion_changes = [trigger for episode in data for trigger in episode[\"triggers\"]]\n",
        "\n",
        "        tokenizer.fit_on_texts(texts)\n",
        "\n",
        "        combined_texts += texts\n",
        "        combined_emotion_changes += emotion_changes\n",
        "\n",
        "    sequences = tokenizer.texts_to_sequences(combined_texts)\n",
        "    max_sequence_len = max(len(seq) for seq in sequences)\n",
        "    padded_sequences = pad_sequences(sequences, maxlen=max_sequence_len, padding='post')\n",
        "    emotion_changes_array = np.array(combined_emotion_changes)\n",
        "\n",
        "    return padded_sequences, emotion_changes_array, tokenizer\n",
        "\n",
        "X, y, tokenizer = load_and_preprocess_data(file_path)\n",
        "X.shape, y.shape"
      ]
    },
    {
      "cell_type": "code",
      "execution_count": 29,
      "metadata": {},
      "outputs": [
        {
          "name": "stdout",
          "output_type": "stream",
          "text": [
            "Epoch 1/10\n",
            "1843/1843 [==============================] - 125s 81ms/step - loss: 0.4408 - accuracy: 0.8413 - val_loss: 0.4357 - val_accuracy: 0.8425\n",
            "Epoch 2/10\n",
            "1843/1843 [==============================] - 97s 66ms/step - loss: 0.4386 - accuracy: 0.8413 - val_loss: 0.4355 - val_accuracy: 0.8425\n",
            "Epoch 3/10\n",
            "1843/1843 [==============================] - 100s 68ms/step - loss: 0.4384 - accuracy: 0.8413 - val_loss: 0.4357 - val_accuracy: 0.8425\n",
            "Epoch 4/10\n",
            "1843/1843 [==============================] - 101s 68ms/step - loss: 0.4383 - accuracy: 0.8413 - val_loss: 0.4376 - val_accuracy: 0.8425\n",
            "Epoch 5/10\n",
            "1843/1843 [==============================] - 96s 65ms/step - loss: 0.4361 - accuracy: 0.8413 - val_loss: 0.4298 - val_accuracy: 0.8425\n",
            "Epoch 6/10\n",
            "1843/1843 [==============================] - 98s 66ms/step - loss: 0.4170 - accuracy: 0.8413 - val_loss: 0.4148 - val_accuracy: 0.8425\n",
            "Epoch 7/10\n",
            "1843/1843 [==============================] - 110s 75ms/step - loss: 0.3898 - accuracy: 0.8432 - val_loss: 0.4065 - val_accuracy: 0.8420\n",
            "Epoch 8/10\n",
            "1843/1843 [==============================] - 99s 68ms/step - loss: 0.3697 - accuracy: 0.8482 - val_loss: 0.4039 - val_accuracy: 0.8397\n",
            "Epoch 9/10\n",
            "1843/1843 [==============================] - 98s 66ms/step - loss: 0.3551 - accuracy: 0.8534 - val_loss: 0.4136 - val_accuracy: 0.8364\n",
            "Epoch 10/10\n",
            "1843/1843 [==============================] - 95s 65ms/step - loss: 0.3444 - accuracy: 0.8570 - val_loss: 0.4059 - val_accuracy: 0.8439\n",
            "228/228 [==============================] - 8s 18ms/step\n",
            "F1 Score: 0.5717279882054506\n"
          ]
        }
      ],
      "source": [
        "from sklearn.model_selection import train_test_split\n",
        "from tensorflow.keras.models import Sequential\n",
        "from tensorflow.keras.layers import Embedding, GRU, Dense\n",
        "from tensorflow.keras.utils import to_categorical\n",
        "import tensorflow as tf\n",
        "\n",
        "X_train, y_train, tokenizer, max_len = load_and_preprocess_data('train_file.json')\n",
        "X_test, y_test, _, _ = load_and_preprocess_data('val_file.json')\n",
        "\n",
        "X_train = np.asarray(X_train).astype('float32')\n",
        "X_test = np.asarray(X_test).astype('float32')\n",
        "y_train = np.asarray(y_train).astype('float32')\n",
        "y_test = np.asarray(y_test).astype('float32')\n",
        "\n",
        "\n",
        "X_train = np.nan_to_num(X_train)\n",
        "X_test = np.nan_to_num(X_test)\n",
        "y_train = np.nan_to_num(y_train)\n",
        "y_test = np.nan_to_num(y_test)\n",
        "\n",
        "X_train_tensor = tf.convert_to_tensor(X_train)\n",
        "X_test_tensor = tf.convert_to_tensor(X_test)\n",
        "y_train_tensor = tf.convert_to_tensor(y_train)\n",
        "y_test_tensor = tf.convert_to_tensor(y_test)\n",
        "\n",
        "\n",
        "vocab_size = len(tokenizer.word_index) + 1  \n",
        "\n",
        "model = Sequential()\n",
        "model.add(Embedding(vocab_size, 100, input_length=X_train.shape[1]))\n",
        "model.add(GRU(64, return_sequences=True))\n",
        "model.add(GRU(32))\n",
        "model.add(Dense(1, activation='sigmoid'))\n",
        "\n",
        "model.compile(optimizer='adam', loss='binary_crossentropy', metrics=['accuracy'])\n",
        "\n",
        "history = model.fit(X_train, y_train, epochs=10, validation_data=(X_test, y_test), batch_size=32)\n",
        "\n",
        "y_pred = model.predict(X_test) > 0.5\n",
        "\n",
        "\n",
        "from sklearn.metrics import f1_score\n",
        "f1 = f1_score(y_test, y_pred, average='macro')\n",
        "print('F1 Score:', f1)\n",
        "\n",
        "model.save('model2_task2.h5')"
      ]
    },
    {
      "cell_type": "code",
      "execution_count": 22,
      "metadata": {},
      "outputs": [
        {
          "data": {
            "image/png": "[encoded data removed]",
            "text/plain": [
              "<Figure size 640x480 with 1 Axes>"
            ]
          },
          "metadata": {},
          "output_type": "display_data"
        }
      ],
      "source": [
        "import matplotlib.pyplot as plt\n",
        "\n",
        "plt.plot(history.history['loss'], label='Training Loss')\n",
        "plt.plot(history.history['val_loss'], label='Validation Loss')\n",
        "plt.title('Training and Validation Loss per Epoch')\n",
        "plt.xlabel('Epoch')\n",
        "plt.ylabel('Loss')\n",
        "plt.legend()\n",
        "plt.show()"
      ]
    },
    {
      "cell_type": "markdown",
      "metadata": {},
      "source": [
        "# Demo"
      ]
    },
    {
      "cell_type": "code",
      "execution_count": 33,
      "metadata": {},
      "outputs": [],
      "source": [
        "from sklearn.metrics import f1_score\n",
        "import numpy as np\n",
        "from tensorflow.keras.models import load_model\n",
        "\n",
        "loaded_model = load_model('model2_task2.h5')\n",
        "test_path = ''\n",
        "\n",
        "with open(test_path, 'r') as file:\n",
        "    new_test_data = json.load(file)\n",
        "\n",
        "new_X = tokenizer.texts_to_sequences([utterance for episode in new_test_data for utterance in episode[\"utterances\"]])\n",
        "new_X = pad_sequences(new_X, maxlen=X_train.shape[1], padding='post')\n",
        "new_y = np.array([trigger for episode in new_test_data for trigger in episode[\"triggers\"]])\n",
        "\n",
        "new_y = np.asarray(new_y).astype('float32')\n",
        "\n",
        "new_y_pred = (model.predict(new_X) > 0.5).astype(int)\n",
        "\n",
        "if np.isnan(new_y).any():\n",
        "    nan_indices = np.where(np.isnan(new_y))[0]\n",
        "    clean_new_y = np.delete(new_y, nan_indices)\n",
        "\n",
        "    clean_new_y_pred = np.delete(new_y_pred, nan_indices)\n",
        "else:\n",
        "    clean_new_y = new_y\n",
        "    clean_new_y_pred = new_y_pred\n",
        "\n",
        "new_f1 = f1_score(clean_new_y, clean_new_y_pred, average='macro')\n",
        "print('F1 Score on new test data:', new_f1)"
      ]
    }
  ],
  "metadata": {
    "colab": {
      "provenance": []
    },
    "kernelspec": {
      "display_name": "Python 3",
      "name": "python3"
    },
    "language_info": {
      "codemirror_mode": {
        "name": "ipython",
        "version": 3
      },
      "file_extension": ".py",
      "mimetype": "text/x-python",
      "name": "python",
      "nbconvert_exporter": "python",
      "pygments_lexer": "ipython3",
      "version": "3.9.0"
    }
  },
  "nbformat": 4,
  "nbformat_minor": 0
}
